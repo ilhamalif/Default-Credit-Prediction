{
  "cells": [
    {
      "cell_type": "code",
      "execution_count": null,
      "id": "3805bda6",
      "metadata": {
        "id": "3805bda6"
      },
      "outputs": [],
      "source": [
        "import pandas as pd"
      ]
    },
    {
      "cell_type": "code",
      "execution_count": null,
      "id": "94625f4a",
      "metadata": {
        "id": "94625f4a",
        "outputId": "b2e97ac7-6e42-486c-96af-3a326949c0f5"
      },
      "outputs": [
        {
          "data": {
            "text/html": [
              "<div>\n",
              "<style scoped>\n",
              "    .dataframe tbody tr th:only-of-type {\n",
              "        vertical-align: middle;\n",
              "    }\n",
              "\n",
              "    .dataframe tbody tr th {\n",
              "        vertical-align: top;\n",
              "    }\n",
              "\n",
              "    .dataframe thead th {\n",
              "        text-align: right;\n",
              "    }\n",
              "</style>\n",
              "<table border=\"1\" class=\"dataframe\">\n",
              "  <thead>\n",
              "    <tr style=\"text-align: right;\">\n",
              "      <th></th>\n",
              "      <th>Unnamed: 0</th>\n",
              "      <th>SK_ID_CURR</th>\n",
              "      <th>TARGET</th>\n",
              "      <th>NAME_CONTRACT_TYPE</th>\n",
              "      <th>CODE_GENDER</th>\n",
              "      <th>FLAG_OWN_CAR</th>\n",
              "      <th>FLAG_OWN_REALTY</th>\n",
              "      <th>CNT_CHILDREN</th>\n",
              "      <th>AMT_INCOME_TOTAL</th>\n",
              "      <th>AMT_CREDIT</th>\n",
              "      <th>...</th>\n",
              "      <th>Prev_CCB_CNT_INSTALMENT_MATURE_CUM</th>\n",
              "      <th>Prev_CCB_NAME_CONTRACT_STATUS</th>\n",
              "      <th>Prev_CCB_SK_DPD</th>\n",
              "      <th>Prev_CCB_SK_DPD_DEF</th>\n",
              "      <th>Prev_POS_MONTHS_BALANCE</th>\n",
              "      <th>Prev_POS_CNT_INSTALMENT</th>\n",
              "      <th>Prev_POS_CNT_INSTALMENT_FUTURE</th>\n",
              "      <th>Prev_POS_NAME_CONTRACT_STATUS</th>\n",
              "      <th>Prev_POS_SK_DPD</th>\n",
              "      <th>Prev_POS_SK_DPD_DEF</th>\n",
              "    </tr>\n",
              "  </thead>\n",
              "  <tbody>\n",
              "    <tr>\n",
              "      <th>0</th>\n",
              "      <td>0</td>\n",
              "      <td>100002</td>\n",
              "      <td>1</td>\n",
              "      <td>0</td>\n",
              "      <td>1</td>\n",
              "      <td>0</td>\n",
              "      <td>1</td>\n",
              "      <td>0</td>\n",
              "      <td>202500.0</td>\n",
              "      <td>406597.5</td>\n",
              "      <td>...</td>\n",
              "      <td>NaN</td>\n",
              "      <td>NaN</td>\n",
              "      <td>NaN</td>\n",
              "      <td>NaN</td>\n",
              "      <td>-8.250000</td>\n",
              "      <td>8.083333</td>\n",
              "      <td>6.500000</td>\n",
              "      <td>1.785714</td>\n",
              "      <td>0.000000</td>\n",
              "      <td>0.000000</td>\n",
              "    </tr>\n",
              "    <tr>\n",
              "      <th>1</th>\n",
              "      <td>1</td>\n",
              "      <td>100003</td>\n",
              "      <td>0</td>\n",
              "      <td>0</td>\n",
              "      <td>0</td>\n",
              "      <td>0</td>\n",
              "      <td>0</td>\n",
              "      <td>0</td>\n",
              "      <td>270000.0</td>\n",
              "      <td>1293502.5</td>\n",
              "      <td>...</td>\n",
              "      <td>6.666667</td>\n",
              "      <td>0.064516</td>\n",
              "      <td>0.0</td>\n",
              "      <td>0.0</td>\n",
              "      <td>-19.000000</td>\n",
              "      <td>17.630769</td>\n",
              "      <td>14.497436</td>\n",
              "      <td>0.656410</td>\n",
              "      <td>0.000000</td>\n",
              "      <td>0.000000</td>\n",
              "    </tr>\n",
              "    <tr>\n",
              "      <th>2</th>\n",
              "      <td>2</td>\n",
              "      <td>100004</td>\n",
              "      <td>0</td>\n",
              "      <td>1</td>\n",
              "      <td>1</td>\n",
              "      <td>1</td>\n",
              "      <td>1</td>\n",
              "      <td>0</td>\n",
              "      <td>67500.0</td>\n",
              "      <td>135000.0</td>\n",
              "      <td>...</td>\n",
              "      <td>12.782051</td>\n",
              "      <td>0.000000</td>\n",
              "      <td>0.0</td>\n",
              "      <td>0.0</td>\n",
              "      <td>-43.500000</td>\n",
              "      <td>8.500000</td>\n",
              "      <td>4.916667</td>\n",
              "      <td>0.333333</td>\n",
              "      <td>0.000000</td>\n",
              "      <td>0.000000</td>\n",
              "    </tr>\n",
              "    <tr>\n",
              "      <th>3</th>\n",
              "      <td>3</td>\n",
              "      <td>100006</td>\n",
              "      <td>0</td>\n",
              "      <td>0</td>\n",
              "      <td>0</td>\n",
              "      <td>0</td>\n",
              "      <td>1</td>\n",
              "      <td>0</td>\n",
              "      <td>135000.0</td>\n",
              "      <td>312682.5</td>\n",
              "      <td>...</td>\n",
              "      <td>NaN</td>\n",
              "      <td>NaN</td>\n",
              "      <td>NaN</td>\n",
              "      <td>NaN</td>\n",
              "      <td>-33.416667</td>\n",
              "      <td>12.400253</td>\n",
              "      <td>6.796086</td>\n",
              "      <td>0.456805</td>\n",
              "      <td>0.000000</td>\n",
              "      <td>0.000000</td>\n",
              "    </tr>\n",
              "    <tr>\n",
              "      <th>4</th>\n",
              "      <td>4</td>\n",
              "      <td>100007</td>\n",
              "      <td>0</td>\n",
              "      <td>0</td>\n",
              "      <td>1</td>\n",
              "      <td>0</td>\n",
              "      <td>1</td>\n",
              "      <td>0</td>\n",
              "      <td>121500.0</td>\n",
              "      <td>513000.0</td>\n",
              "      <td>...</td>\n",
              "      <td>3.600000</td>\n",
              "      <td>0.000000</td>\n",
              "      <td>0.0</td>\n",
              "      <td>0.0</td>\n",
              "      <td>-26.428571</td>\n",
              "      <td>11.333333</td>\n",
              "      <td>8.111111</td>\n",
              "      <td>0.461190</td>\n",
              "      <td>0.126984</td>\n",
              "      <td>0.126984</td>\n",
              "    </tr>\n",
              "  </tbody>\n",
              "</table>\n",
              "<p>5 rows × 343 columns</p>\n",
              "</div>"
            ],
            "text/plain": [
              "   Unnamed: 0  SK_ID_CURR  TARGET  NAME_CONTRACT_TYPE  CODE_GENDER  \\\n",
              "0           0      100002       1                   0            1   \n",
              "1           1      100003       0                   0            0   \n",
              "2           2      100004       0                   1            1   \n",
              "3           3      100006       0                   0            0   \n",
              "4           4      100007       0                   0            1   \n",
              "\n",
              "   FLAG_OWN_CAR  FLAG_OWN_REALTY  CNT_CHILDREN  AMT_INCOME_TOTAL  AMT_CREDIT  \\\n",
              "0             0                1             0          202500.0    406597.5   \n",
              "1             0                0             0          270000.0   1293502.5   \n",
              "2             1                1             0           67500.0    135000.0   \n",
              "3             0                1             0          135000.0    312682.5   \n",
              "4             0                1             0          121500.0    513000.0   \n",
              "\n",
              "   ...  Prev_CCB_CNT_INSTALMENT_MATURE_CUM  Prev_CCB_NAME_CONTRACT_STATUS  \\\n",
              "0  ...                                 NaN                            NaN   \n",
              "1  ...                            6.666667                       0.064516   \n",
              "2  ...                           12.782051                       0.000000   \n",
              "3  ...                                 NaN                            NaN   \n",
              "4  ...                            3.600000                       0.000000   \n",
              "\n",
              "   Prev_CCB_SK_DPD  Prev_CCB_SK_DPD_DEF  Prev_POS_MONTHS_BALANCE  \\\n",
              "0              NaN                  NaN                -8.250000   \n",
              "1              0.0                  0.0               -19.000000   \n",
              "2              0.0                  0.0               -43.500000   \n",
              "3              NaN                  NaN               -33.416667   \n",
              "4              0.0                  0.0               -26.428571   \n",
              "\n",
              "   Prev_POS_CNT_INSTALMENT  Prev_POS_CNT_INSTALMENT_FUTURE  \\\n",
              "0                 8.083333                        6.500000   \n",
              "1                17.630769                       14.497436   \n",
              "2                 8.500000                        4.916667   \n",
              "3                12.400253                        6.796086   \n",
              "4                11.333333                        8.111111   \n",
              "\n",
              "   Prev_POS_NAME_CONTRACT_STATUS  Prev_POS_SK_DPD  Prev_POS_SK_DPD_DEF  \n",
              "0                       1.785714         0.000000             0.000000  \n",
              "1                       0.656410         0.000000             0.000000  \n",
              "2                       0.333333         0.000000             0.000000  \n",
              "3                       0.456805         0.000000             0.000000  \n",
              "4                       0.461190         0.126984             0.126984  \n",
              "\n",
              "[5 rows x 343 columns]"
            ]
          },
          "execution_count": 3,
          "metadata": {},
          "output_type": "execute_result"
        }
      ],
      "source": [
        "df_train = pd.read_csv(\"df_train_merged.csv\")\n",
        "df_train.head()"
      ]
    },
    {
      "cell_type": "code",
      "execution_count": null,
      "id": "aa08bd72",
      "metadata": {
        "id": "aa08bd72",
        "outputId": "0010b506-7627-4422-d9a9-d5b3524263ec"
      },
      "outputs": [
        {
          "data": {
            "text/html": [
              "<div>\n",
              "<style scoped>\n",
              "    .dataframe tbody tr th:only-of-type {\n",
              "        vertical-align: middle;\n",
              "    }\n",
              "\n",
              "    .dataframe tbody tr th {\n",
              "        vertical-align: top;\n",
              "    }\n",
              "\n",
              "    .dataframe thead th {\n",
              "        text-align: right;\n",
              "    }\n",
              "</style>\n",
              "<table border=\"1\" class=\"dataframe\">\n",
              "  <thead>\n",
              "    <tr style=\"text-align: right;\">\n",
              "      <th></th>\n",
              "      <th>SK_ID_CURR</th>\n",
              "      <th>TARGET</th>\n",
              "      <th>NAME_CONTRACT_TYPE</th>\n",
              "      <th>CODE_GENDER</th>\n",
              "      <th>FLAG_OWN_CAR</th>\n",
              "      <th>FLAG_OWN_REALTY</th>\n",
              "      <th>CNT_CHILDREN</th>\n",
              "      <th>AMT_INCOME_TOTAL</th>\n",
              "      <th>AMT_CREDIT</th>\n",
              "      <th>AMT_ANNUITY</th>\n",
              "      <th>...</th>\n",
              "      <th>Prev_CCB_CNT_INSTALMENT_MATURE_CUM</th>\n",
              "      <th>Prev_CCB_NAME_CONTRACT_STATUS</th>\n",
              "      <th>Prev_CCB_SK_DPD</th>\n",
              "      <th>Prev_CCB_SK_DPD_DEF</th>\n",
              "      <th>Prev_POS_MONTHS_BALANCE</th>\n",
              "      <th>Prev_POS_CNT_INSTALMENT</th>\n",
              "      <th>Prev_POS_CNT_INSTALMENT_FUTURE</th>\n",
              "      <th>Prev_POS_NAME_CONTRACT_STATUS</th>\n",
              "      <th>Prev_POS_SK_DPD</th>\n",
              "      <th>Prev_POS_SK_DPD_DEF</th>\n",
              "    </tr>\n",
              "  </thead>\n",
              "  <tbody>\n",
              "    <tr>\n",
              "      <th>0</th>\n",
              "      <td>100002</td>\n",
              "      <td>1</td>\n",
              "      <td>0</td>\n",
              "      <td>1</td>\n",
              "      <td>0</td>\n",
              "      <td>1</td>\n",
              "      <td>0</td>\n",
              "      <td>202500.0</td>\n",
              "      <td>406597.5</td>\n",
              "      <td>24700.5</td>\n",
              "      <td>...</td>\n",
              "      <td>NaN</td>\n",
              "      <td>NaN</td>\n",
              "      <td>NaN</td>\n",
              "      <td>NaN</td>\n",
              "      <td>-8.250000</td>\n",
              "      <td>8.083333</td>\n",
              "      <td>6.500000</td>\n",
              "      <td>1.785714</td>\n",
              "      <td>0.000000</td>\n",
              "      <td>0.000000</td>\n",
              "    </tr>\n",
              "    <tr>\n",
              "      <th>1</th>\n",
              "      <td>100003</td>\n",
              "      <td>0</td>\n",
              "      <td>0</td>\n",
              "      <td>0</td>\n",
              "      <td>0</td>\n",
              "      <td>0</td>\n",
              "      <td>0</td>\n",
              "      <td>270000.0</td>\n",
              "      <td>1293502.5</td>\n",
              "      <td>35698.5</td>\n",
              "      <td>...</td>\n",
              "      <td>6.666667</td>\n",
              "      <td>0.064516</td>\n",
              "      <td>0.0</td>\n",
              "      <td>0.0</td>\n",
              "      <td>-19.000000</td>\n",
              "      <td>17.630769</td>\n",
              "      <td>14.497436</td>\n",
              "      <td>0.656410</td>\n",
              "      <td>0.000000</td>\n",
              "      <td>0.000000</td>\n",
              "    </tr>\n",
              "    <tr>\n",
              "      <th>2</th>\n",
              "      <td>100004</td>\n",
              "      <td>0</td>\n",
              "      <td>1</td>\n",
              "      <td>1</td>\n",
              "      <td>1</td>\n",
              "      <td>1</td>\n",
              "      <td>0</td>\n",
              "      <td>67500.0</td>\n",
              "      <td>135000.0</td>\n",
              "      <td>6750.0</td>\n",
              "      <td>...</td>\n",
              "      <td>12.782051</td>\n",
              "      <td>0.000000</td>\n",
              "      <td>0.0</td>\n",
              "      <td>0.0</td>\n",
              "      <td>-43.500000</td>\n",
              "      <td>8.500000</td>\n",
              "      <td>4.916667</td>\n",
              "      <td>0.333333</td>\n",
              "      <td>0.000000</td>\n",
              "      <td>0.000000</td>\n",
              "    </tr>\n",
              "    <tr>\n",
              "      <th>3</th>\n",
              "      <td>100006</td>\n",
              "      <td>0</td>\n",
              "      <td>0</td>\n",
              "      <td>0</td>\n",
              "      <td>0</td>\n",
              "      <td>1</td>\n",
              "      <td>0</td>\n",
              "      <td>135000.0</td>\n",
              "      <td>312682.5</td>\n",
              "      <td>29686.5</td>\n",
              "      <td>...</td>\n",
              "      <td>NaN</td>\n",
              "      <td>NaN</td>\n",
              "      <td>NaN</td>\n",
              "      <td>NaN</td>\n",
              "      <td>-33.416667</td>\n",
              "      <td>12.400253</td>\n",
              "      <td>6.796086</td>\n",
              "      <td>0.456805</td>\n",
              "      <td>0.000000</td>\n",
              "      <td>0.000000</td>\n",
              "    </tr>\n",
              "    <tr>\n",
              "      <th>4</th>\n",
              "      <td>100007</td>\n",
              "      <td>0</td>\n",
              "      <td>0</td>\n",
              "      <td>1</td>\n",
              "      <td>0</td>\n",
              "      <td>1</td>\n",
              "      <td>0</td>\n",
              "      <td>121500.0</td>\n",
              "      <td>513000.0</td>\n",
              "      <td>21865.5</td>\n",
              "      <td>...</td>\n",
              "      <td>3.600000</td>\n",
              "      <td>0.000000</td>\n",
              "      <td>0.0</td>\n",
              "      <td>0.0</td>\n",
              "      <td>-26.428571</td>\n",
              "      <td>11.333333</td>\n",
              "      <td>8.111111</td>\n",
              "      <td>0.461190</td>\n",
              "      <td>0.126984</td>\n",
              "      <td>0.126984</td>\n",
              "    </tr>\n",
              "  </tbody>\n",
              "</table>\n",
              "<p>5 rows × 342 columns</p>\n",
              "</div>"
            ],
            "text/plain": [
              "   SK_ID_CURR  TARGET  NAME_CONTRACT_TYPE  CODE_GENDER  FLAG_OWN_CAR  \\\n",
              "0      100002       1                   0            1             0   \n",
              "1      100003       0                   0            0             0   \n",
              "2      100004       0                   1            1             1   \n",
              "3      100006       0                   0            0             0   \n",
              "4      100007       0                   0            1             0   \n",
              "\n",
              "   FLAG_OWN_REALTY  CNT_CHILDREN  AMT_INCOME_TOTAL  AMT_CREDIT  AMT_ANNUITY  \\\n",
              "0                1             0          202500.0    406597.5      24700.5   \n",
              "1                0             0          270000.0   1293502.5      35698.5   \n",
              "2                1             0           67500.0    135000.0       6750.0   \n",
              "3                1             0          135000.0    312682.5      29686.5   \n",
              "4                1             0          121500.0    513000.0      21865.5   \n",
              "\n",
              "   ...  Prev_CCB_CNT_INSTALMENT_MATURE_CUM  Prev_CCB_NAME_CONTRACT_STATUS  \\\n",
              "0  ...                                 NaN                            NaN   \n",
              "1  ...                            6.666667                       0.064516   \n",
              "2  ...                           12.782051                       0.000000   \n",
              "3  ...                                 NaN                            NaN   \n",
              "4  ...                            3.600000                       0.000000   \n",
              "\n",
              "   Prev_CCB_SK_DPD  Prev_CCB_SK_DPD_DEF  Prev_POS_MONTHS_BALANCE  \\\n",
              "0              NaN                  NaN                -8.250000   \n",
              "1              0.0                  0.0               -19.000000   \n",
              "2              0.0                  0.0               -43.500000   \n",
              "3              NaN                  NaN               -33.416667   \n",
              "4              0.0                  0.0               -26.428571   \n",
              "\n",
              "   Prev_POS_CNT_INSTALMENT  Prev_POS_CNT_INSTALMENT_FUTURE  \\\n",
              "0                 8.083333                        6.500000   \n",
              "1                17.630769                       14.497436   \n",
              "2                 8.500000                        4.916667   \n",
              "3                12.400253                        6.796086   \n",
              "4                11.333333                        8.111111   \n",
              "\n",
              "   Prev_POS_NAME_CONTRACT_STATUS  Prev_POS_SK_DPD  Prev_POS_SK_DPD_DEF  \n",
              "0                       1.785714         0.000000             0.000000  \n",
              "1                       0.656410         0.000000             0.000000  \n",
              "2                       0.333333         0.000000             0.000000  \n",
              "3                       0.456805         0.000000             0.000000  \n",
              "4                       0.461190         0.126984             0.126984  \n",
              "\n",
              "[5 rows x 342 columns]"
            ]
          },
          "execution_count": 4,
          "metadata": {},
          "output_type": "execute_result"
        }
      ],
      "source": [
        "df_train = df_train.drop([\"Unnamed: 0\"], axis = 1)\n",
        "df_train.head(5)"
      ]
    },
    {
      "cell_type": "code",
      "execution_count": null,
      "id": "a65ff2da",
      "metadata": {
        "id": "a65ff2da",
        "outputId": "343d6053-232f-423e-e073-b92c02cb1892"
      },
      "outputs": [
        {
          "data": {
            "text/plain": [
              "(307511, 342)"
            ]
          },
          "execution_count": 5,
          "metadata": {},
          "output_type": "execute_result"
        }
      ],
      "source": [
        "df_train.shape"
      ]
    },
    {
      "cell_type": "code",
      "execution_count": null,
      "id": "16c8d042",
      "metadata": {
        "id": "16c8d042",
        "outputId": "9227d407-fedb-4418-d675-a9f232874418"
      },
      "outputs": [
        {
          "data": {
            "text/html": [
              "<div>\n",
              "<style scoped>\n",
              "    .dataframe tbody tr th:only-of-type {\n",
              "        vertical-align: middle;\n",
              "    }\n",
              "\n",
              "    .dataframe tbody tr th {\n",
              "        vertical-align: top;\n",
              "    }\n",
              "\n",
              "    .dataframe thead th {\n",
              "        text-align: right;\n",
              "    }\n",
              "</style>\n",
              "<table border=\"1\" class=\"dataframe\">\n",
              "  <thead>\n",
              "    <tr style=\"text-align: right;\">\n",
              "      <th></th>\n",
              "      <th>Unnamed: 0</th>\n",
              "      <th>SK_ID_CURR</th>\n",
              "      <th>NAME_CONTRACT_TYPE</th>\n",
              "      <th>CODE_GENDER</th>\n",
              "      <th>FLAG_OWN_CAR</th>\n",
              "      <th>FLAG_OWN_REALTY</th>\n",
              "      <th>CNT_CHILDREN</th>\n",
              "      <th>AMT_INCOME_TOTAL</th>\n",
              "      <th>AMT_CREDIT</th>\n",
              "      <th>AMT_ANNUITY</th>\n",
              "      <th>...</th>\n",
              "      <th>Prev_CCB_CNT_INSTALMENT_MATURE_CUM</th>\n",
              "      <th>Prev_CCB_NAME_CONTRACT_STATUS</th>\n",
              "      <th>Prev_CCB_SK_DPD</th>\n",
              "      <th>Prev_CCB_SK_DPD_DEF</th>\n",
              "      <th>Prev_POS_MONTHS_BALANCE</th>\n",
              "      <th>Prev_POS_CNT_INSTALMENT</th>\n",
              "      <th>Prev_POS_CNT_INSTALMENT_FUTURE</th>\n",
              "      <th>Prev_POS_NAME_CONTRACT_STATUS</th>\n",
              "      <th>Prev_POS_SK_DPD</th>\n",
              "      <th>Prev_POS_SK_DPD_DEF</th>\n",
              "    </tr>\n",
              "  </thead>\n",
              "  <tbody>\n",
              "    <tr>\n",
              "      <th>0</th>\n",
              "      <td>0</td>\n",
              "      <td>100001</td>\n",
              "      <td>0</td>\n",
              "      <td>0</td>\n",
              "      <td>0</td>\n",
              "      <td>1</td>\n",
              "      <td>0</td>\n",
              "      <td>135000.0</td>\n",
              "      <td>568800.0</td>\n",
              "      <td>20560.5</td>\n",
              "      <td>...</td>\n",
              "      <td>NaN</td>\n",
              "      <td>NaN</td>\n",
              "      <td>NaN</td>\n",
              "      <td>NaN</td>\n",
              "      <td>-8.250000</td>\n",
              "      <td>8.083333</td>\n",
              "      <td>6.500000</td>\n",
              "      <td>1.785714</td>\n",
              "      <td>0.000000</td>\n",
              "      <td>0.000000</td>\n",
              "    </tr>\n",
              "    <tr>\n",
              "      <th>1</th>\n",
              "      <td>1</td>\n",
              "      <td>100005</td>\n",
              "      <td>0</td>\n",
              "      <td>1</td>\n",
              "      <td>0</td>\n",
              "      <td>1</td>\n",
              "      <td>0</td>\n",
              "      <td>99000.0</td>\n",
              "      <td>222768.0</td>\n",
              "      <td>17370.0</td>\n",
              "      <td>...</td>\n",
              "      <td>6.666667</td>\n",
              "      <td>0.064516</td>\n",
              "      <td>0.0</td>\n",
              "      <td>0.0</td>\n",
              "      <td>-19.000000</td>\n",
              "      <td>17.630769</td>\n",
              "      <td>14.497436</td>\n",
              "      <td>0.656410</td>\n",
              "      <td>0.000000</td>\n",
              "      <td>0.000000</td>\n",
              "    </tr>\n",
              "    <tr>\n",
              "      <th>2</th>\n",
              "      <td>2</td>\n",
              "      <td>100013</td>\n",
              "      <td>0</td>\n",
              "      <td>1</td>\n",
              "      <td>1</td>\n",
              "      <td>1</td>\n",
              "      <td>0</td>\n",
              "      <td>202500.0</td>\n",
              "      <td>663264.0</td>\n",
              "      <td>69777.0</td>\n",
              "      <td>...</td>\n",
              "      <td>12.782051</td>\n",
              "      <td>0.000000</td>\n",
              "      <td>0.0</td>\n",
              "      <td>0.0</td>\n",
              "      <td>-43.500000</td>\n",
              "      <td>8.500000</td>\n",
              "      <td>4.916667</td>\n",
              "      <td>0.333333</td>\n",
              "      <td>0.000000</td>\n",
              "      <td>0.000000</td>\n",
              "    </tr>\n",
              "    <tr>\n",
              "      <th>3</th>\n",
              "      <td>3</td>\n",
              "      <td>100028</td>\n",
              "      <td>0</td>\n",
              "      <td>0</td>\n",
              "      <td>0</td>\n",
              "      <td>1</td>\n",
              "      <td>2</td>\n",
              "      <td>315000.0</td>\n",
              "      <td>1575000.0</td>\n",
              "      <td>49018.5</td>\n",
              "      <td>...</td>\n",
              "      <td>NaN</td>\n",
              "      <td>NaN</td>\n",
              "      <td>NaN</td>\n",
              "      <td>NaN</td>\n",
              "      <td>-33.416667</td>\n",
              "      <td>12.400253</td>\n",
              "      <td>6.796086</td>\n",
              "      <td>0.456805</td>\n",
              "      <td>0.000000</td>\n",
              "      <td>0.000000</td>\n",
              "    </tr>\n",
              "    <tr>\n",
              "      <th>4</th>\n",
              "      <td>4</td>\n",
              "      <td>100038</td>\n",
              "      <td>0</td>\n",
              "      <td>1</td>\n",
              "      <td>1</td>\n",
              "      <td>0</td>\n",
              "      <td>1</td>\n",
              "      <td>180000.0</td>\n",
              "      <td>625500.0</td>\n",
              "      <td>32067.0</td>\n",
              "      <td>...</td>\n",
              "      <td>3.600000</td>\n",
              "      <td>0.000000</td>\n",
              "      <td>0.0</td>\n",
              "      <td>0.0</td>\n",
              "      <td>-26.428571</td>\n",
              "      <td>11.333333</td>\n",
              "      <td>8.111111</td>\n",
              "      <td>0.461190</td>\n",
              "      <td>0.126984</td>\n",
              "      <td>0.126984</td>\n",
              "    </tr>\n",
              "  </tbody>\n",
              "</table>\n",
              "<p>5 rows × 342 columns</p>\n",
              "</div>"
            ],
            "text/plain": [
              "   Unnamed: 0  SK_ID_CURR  NAME_CONTRACT_TYPE  CODE_GENDER  FLAG_OWN_CAR  \\\n",
              "0           0      100001                   0            0             0   \n",
              "1           1      100005                   0            1             0   \n",
              "2           2      100013                   0            1             1   \n",
              "3           3      100028                   0            0             0   \n",
              "4           4      100038                   0            1             1   \n",
              "\n",
              "   FLAG_OWN_REALTY  CNT_CHILDREN  AMT_INCOME_TOTAL  AMT_CREDIT  AMT_ANNUITY  \\\n",
              "0                1             0          135000.0    568800.0      20560.5   \n",
              "1                1             0           99000.0    222768.0      17370.0   \n",
              "2                1             0          202500.0    663264.0      69777.0   \n",
              "3                1             2          315000.0   1575000.0      49018.5   \n",
              "4                0             1          180000.0    625500.0      32067.0   \n",
              "\n",
              "   ...  Prev_CCB_CNT_INSTALMENT_MATURE_CUM  Prev_CCB_NAME_CONTRACT_STATUS  \\\n",
              "0  ...                                 NaN                            NaN   \n",
              "1  ...                            6.666667                       0.064516   \n",
              "2  ...                           12.782051                       0.000000   \n",
              "3  ...                                 NaN                            NaN   \n",
              "4  ...                            3.600000                       0.000000   \n",
              "\n",
              "   Prev_CCB_SK_DPD  Prev_CCB_SK_DPD_DEF  Prev_POS_MONTHS_BALANCE  \\\n",
              "0              NaN                  NaN                -8.250000   \n",
              "1              0.0                  0.0               -19.000000   \n",
              "2              0.0                  0.0               -43.500000   \n",
              "3              NaN                  NaN               -33.416667   \n",
              "4              0.0                  0.0               -26.428571   \n",
              "\n",
              "   Prev_POS_CNT_INSTALMENT  Prev_POS_CNT_INSTALMENT_FUTURE  \\\n",
              "0                 8.083333                        6.500000   \n",
              "1                17.630769                       14.497436   \n",
              "2                 8.500000                        4.916667   \n",
              "3                12.400253                        6.796086   \n",
              "4                11.333333                        8.111111   \n",
              "\n",
              "   Prev_POS_NAME_CONTRACT_STATUS  Prev_POS_SK_DPD  Prev_POS_SK_DPD_DEF  \n",
              "0                       1.785714         0.000000             0.000000  \n",
              "1                       0.656410         0.000000             0.000000  \n",
              "2                       0.333333         0.000000             0.000000  \n",
              "3                       0.456805         0.000000             0.000000  \n",
              "4                       0.461190         0.126984             0.126984  \n",
              "\n",
              "[5 rows x 342 columns]"
            ]
          },
          "execution_count": 6,
          "metadata": {},
          "output_type": "execute_result"
        }
      ],
      "source": [
        "df_test = pd.read_csv(\"df_test_merged.csv\")\n",
        "df_test.head(5)"
      ]
    },
    {
      "cell_type": "code",
      "execution_count": null,
      "id": "e3f4eb0d",
      "metadata": {
        "id": "e3f4eb0d",
        "outputId": "be225aa9-9b15-463b-ce5a-bc50b7b7782d"
      },
      "outputs": [
        {
          "data": {
            "text/html": [
              "<div>\n",
              "<style scoped>\n",
              "    .dataframe tbody tr th:only-of-type {\n",
              "        vertical-align: middle;\n",
              "    }\n",
              "\n",
              "    .dataframe tbody tr th {\n",
              "        vertical-align: top;\n",
              "    }\n",
              "\n",
              "    .dataframe thead th {\n",
              "        text-align: right;\n",
              "    }\n",
              "</style>\n",
              "<table border=\"1\" class=\"dataframe\">\n",
              "  <thead>\n",
              "    <tr style=\"text-align: right;\">\n",
              "      <th></th>\n",
              "      <th>SK_ID_CURR</th>\n",
              "      <th>NAME_CONTRACT_TYPE</th>\n",
              "      <th>CODE_GENDER</th>\n",
              "      <th>FLAG_OWN_CAR</th>\n",
              "      <th>FLAG_OWN_REALTY</th>\n",
              "      <th>CNT_CHILDREN</th>\n",
              "      <th>AMT_INCOME_TOTAL</th>\n",
              "      <th>AMT_CREDIT</th>\n",
              "      <th>AMT_ANNUITY</th>\n",
              "      <th>AMT_GOODS_PRICE</th>\n",
              "      <th>...</th>\n",
              "      <th>Prev_CCB_CNT_INSTALMENT_MATURE_CUM</th>\n",
              "      <th>Prev_CCB_NAME_CONTRACT_STATUS</th>\n",
              "      <th>Prev_CCB_SK_DPD</th>\n",
              "      <th>Prev_CCB_SK_DPD_DEF</th>\n",
              "      <th>Prev_POS_MONTHS_BALANCE</th>\n",
              "      <th>Prev_POS_CNT_INSTALMENT</th>\n",
              "      <th>Prev_POS_CNT_INSTALMENT_FUTURE</th>\n",
              "      <th>Prev_POS_NAME_CONTRACT_STATUS</th>\n",
              "      <th>Prev_POS_SK_DPD</th>\n",
              "      <th>Prev_POS_SK_DPD_DEF</th>\n",
              "    </tr>\n",
              "  </thead>\n",
              "  <tbody>\n",
              "    <tr>\n",
              "      <th>0</th>\n",
              "      <td>100001</td>\n",
              "      <td>0</td>\n",
              "      <td>0</td>\n",
              "      <td>0</td>\n",
              "      <td>1</td>\n",
              "      <td>0</td>\n",
              "      <td>135000.0</td>\n",
              "      <td>568800.0</td>\n",
              "      <td>20560.5</td>\n",
              "      <td>450000.0</td>\n",
              "      <td>...</td>\n",
              "      <td>NaN</td>\n",
              "      <td>NaN</td>\n",
              "      <td>NaN</td>\n",
              "      <td>NaN</td>\n",
              "      <td>-8.250000</td>\n",
              "      <td>8.083333</td>\n",
              "      <td>6.500000</td>\n",
              "      <td>1.785714</td>\n",
              "      <td>0.000000</td>\n",
              "      <td>0.000000</td>\n",
              "    </tr>\n",
              "    <tr>\n",
              "      <th>1</th>\n",
              "      <td>100005</td>\n",
              "      <td>0</td>\n",
              "      <td>1</td>\n",
              "      <td>0</td>\n",
              "      <td>1</td>\n",
              "      <td>0</td>\n",
              "      <td>99000.0</td>\n",
              "      <td>222768.0</td>\n",
              "      <td>17370.0</td>\n",
              "      <td>180000.0</td>\n",
              "      <td>...</td>\n",
              "      <td>6.666667</td>\n",
              "      <td>0.064516</td>\n",
              "      <td>0.0</td>\n",
              "      <td>0.0</td>\n",
              "      <td>-19.000000</td>\n",
              "      <td>17.630769</td>\n",
              "      <td>14.497436</td>\n",
              "      <td>0.656410</td>\n",
              "      <td>0.000000</td>\n",
              "      <td>0.000000</td>\n",
              "    </tr>\n",
              "    <tr>\n",
              "      <th>2</th>\n",
              "      <td>100013</td>\n",
              "      <td>0</td>\n",
              "      <td>1</td>\n",
              "      <td>1</td>\n",
              "      <td>1</td>\n",
              "      <td>0</td>\n",
              "      <td>202500.0</td>\n",
              "      <td>663264.0</td>\n",
              "      <td>69777.0</td>\n",
              "      <td>630000.0</td>\n",
              "      <td>...</td>\n",
              "      <td>12.782051</td>\n",
              "      <td>0.000000</td>\n",
              "      <td>0.0</td>\n",
              "      <td>0.0</td>\n",
              "      <td>-43.500000</td>\n",
              "      <td>8.500000</td>\n",
              "      <td>4.916667</td>\n",
              "      <td>0.333333</td>\n",
              "      <td>0.000000</td>\n",
              "      <td>0.000000</td>\n",
              "    </tr>\n",
              "    <tr>\n",
              "      <th>3</th>\n",
              "      <td>100028</td>\n",
              "      <td>0</td>\n",
              "      <td>0</td>\n",
              "      <td>0</td>\n",
              "      <td>1</td>\n",
              "      <td>2</td>\n",
              "      <td>315000.0</td>\n",
              "      <td>1575000.0</td>\n",
              "      <td>49018.5</td>\n",
              "      <td>1575000.0</td>\n",
              "      <td>...</td>\n",
              "      <td>NaN</td>\n",
              "      <td>NaN</td>\n",
              "      <td>NaN</td>\n",
              "      <td>NaN</td>\n",
              "      <td>-33.416667</td>\n",
              "      <td>12.400253</td>\n",
              "      <td>6.796086</td>\n",
              "      <td>0.456805</td>\n",
              "      <td>0.000000</td>\n",
              "      <td>0.000000</td>\n",
              "    </tr>\n",
              "    <tr>\n",
              "      <th>4</th>\n",
              "      <td>100038</td>\n",
              "      <td>0</td>\n",
              "      <td>1</td>\n",
              "      <td>1</td>\n",
              "      <td>0</td>\n",
              "      <td>1</td>\n",
              "      <td>180000.0</td>\n",
              "      <td>625500.0</td>\n",
              "      <td>32067.0</td>\n",
              "      <td>625500.0</td>\n",
              "      <td>...</td>\n",
              "      <td>3.600000</td>\n",
              "      <td>0.000000</td>\n",
              "      <td>0.0</td>\n",
              "      <td>0.0</td>\n",
              "      <td>-26.428571</td>\n",
              "      <td>11.333333</td>\n",
              "      <td>8.111111</td>\n",
              "      <td>0.461190</td>\n",
              "      <td>0.126984</td>\n",
              "      <td>0.126984</td>\n",
              "    </tr>\n",
              "  </tbody>\n",
              "</table>\n",
              "<p>5 rows × 341 columns</p>\n",
              "</div>"
            ],
            "text/plain": [
              "   SK_ID_CURR  NAME_CONTRACT_TYPE  CODE_GENDER  FLAG_OWN_CAR  FLAG_OWN_REALTY  \\\n",
              "0      100001                   0            0             0                1   \n",
              "1      100005                   0            1             0                1   \n",
              "2      100013                   0            1             1                1   \n",
              "3      100028                   0            0             0                1   \n",
              "4      100038                   0            1             1                0   \n",
              "\n",
              "   CNT_CHILDREN  AMT_INCOME_TOTAL  AMT_CREDIT  AMT_ANNUITY  AMT_GOODS_PRICE  \\\n",
              "0             0          135000.0    568800.0      20560.5         450000.0   \n",
              "1             0           99000.0    222768.0      17370.0         180000.0   \n",
              "2             0          202500.0    663264.0      69777.0         630000.0   \n",
              "3             2          315000.0   1575000.0      49018.5        1575000.0   \n",
              "4             1          180000.0    625500.0      32067.0         625500.0   \n",
              "\n",
              "   ...  Prev_CCB_CNT_INSTALMENT_MATURE_CUM  Prev_CCB_NAME_CONTRACT_STATUS  \\\n",
              "0  ...                                 NaN                            NaN   \n",
              "1  ...                            6.666667                       0.064516   \n",
              "2  ...                           12.782051                       0.000000   \n",
              "3  ...                                 NaN                            NaN   \n",
              "4  ...                            3.600000                       0.000000   \n",
              "\n",
              "   Prev_CCB_SK_DPD  Prev_CCB_SK_DPD_DEF  Prev_POS_MONTHS_BALANCE  \\\n",
              "0              NaN                  NaN                -8.250000   \n",
              "1              0.0                  0.0               -19.000000   \n",
              "2              0.0                  0.0               -43.500000   \n",
              "3              NaN                  NaN               -33.416667   \n",
              "4              0.0                  0.0               -26.428571   \n",
              "\n",
              "   Prev_POS_CNT_INSTALMENT  Prev_POS_CNT_INSTALMENT_FUTURE  \\\n",
              "0                 8.083333                        6.500000   \n",
              "1                17.630769                       14.497436   \n",
              "2                 8.500000                        4.916667   \n",
              "3                12.400253                        6.796086   \n",
              "4                11.333333                        8.111111   \n",
              "\n",
              "   Prev_POS_NAME_CONTRACT_STATUS  Prev_POS_SK_DPD  Prev_POS_SK_DPD_DEF  \n",
              "0                       1.785714         0.000000             0.000000  \n",
              "1                       0.656410         0.000000             0.000000  \n",
              "2                       0.333333         0.000000             0.000000  \n",
              "3                       0.456805         0.000000             0.000000  \n",
              "4                       0.461190         0.126984             0.126984  \n",
              "\n",
              "[5 rows x 341 columns]"
            ]
          },
          "execution_count": 7,
          "metadata": {},
          "output_type": "execute_result"
        }
      ],
      "source": [
        "df_test = df_test.drop([\"Unnamed: 0\"], axis = 1)\n",
        "df_test.head(5)"
      ]
    },
    {
      "cell_type": "code",
      "execution_count": null,
      "id": "1086ab77",
      "metadata": {
        "id": "1086ab77",
        "outputId": "de2ec207-7176-4376-a2d2-23741373b36e"
      },
      "outputs": [
        {
          "data": {
            "text/plain": [
              "(48744, 341)"
            ]
          },
          "execution_count": 8,
          "metadata": {},
          "output_type": "execute_result"
        }
      ],
      "source": [
        "df_test.shape"
      ]
    },
    {
      "cell_type": "markdown",
      "id": "25d9c953",
      "metadata": {
        "id": "25d9c953"
      },
      "source": [
        "# Merge data train and test"
      ]
    },
    {
      "cell_type": "code",
      "execution_count": null,
      "id": "f792e976",
      "metadata": {
        "id": "f792e976"
      },
      "outputs": [],
      "source": [
        "frames = [df_train,df_test]\n",
        "df = pd.concat(frames)"
      ]
    },
    {
      "cell_type": "code",
      "execution_count": null,
      "id": "fba65bb0",
      "metadata": {
        "id": "fba65bb0",
        "outputId": "e86e7d81-c920-43a5-b7cb-7a55be09f665"
      },
      "outputs": [
        {
          "data": {
            "text/html": [
              "<div>\n",
              "<style scoped>\n",
              "    .dataframe tbody tr th:only-of-type {\n",
              "        vertical-align: middle;\n",
              "    }\n",
              "\n",
              "    .dataframe tbody tr th {\n",
              "        vertical-align: top;\n",
              "    }\n",
              "\n",
              "    .dataframe thead th {\n",
              "        text-align: right;\n",
              "    }\n",
              "</style>\n",
              "<table border=\"1\" class=\"dataframe\">\n",
              "  <thead>\n",
              "    <tr style=\"text-align: right;\">\n",
              "      <th></th>\n",
              "      <th>SK_ID_CURR</th>\n",
              "      <th>TARGET</th>\n",
              "      <th>NAME_CONTRACT_TYPE</th>\n",
              "      <th>CODE_GENDER</th>\n",
              "      <th>FLAG_OWN_CAR</th>\n",
              "      <th>FLAG_OWN_REALTY</th>\n",
              "      <th>CNT_CHILDREN</th>\n",
              "      <th>AMT_INCOME_TOTAL</th>\n",
              "      <th>AMT_CREDIT</th>\n",
              "      <th>AMT_ANNUITY</th>\n",
              "      <th>...</th>\n",
              "      <th>Prev_CCB_CNT_INSTALMENT_MATURE_CUM</th>\n",
              "      <th>Prev_CCB_NAME_CONTRACT_STATUS</th>\n",
              "      <th>Prev_CCB_SK_DPD</th>\n",
              "      <th>Prev_CCB_SK_DPD_DEF</th>\n",
              "      <th>Prev_POS_MONTHS_BALANCE</th>\n",
              "      <th>Prev_POS_CNT_INSTALMENT</th>\n",
              "      <th>Prev_POS_CNT_INSTALMENT_FUTURE</th>\n",
              "      <th>Prev_POS_NAME_CONTRACT_STATUS</th>\n",
              "      <th>Prev_POS_SK_DPD</th>\n",
              "      <th>Prev_POS_SK_DPD_DEF</th>\n",
              "    </tr>\n",
              "  </thead>\n",
              "  <tbody>\n",
              "    <tr>\n",
              "      <th>0</th>\n",
              "      <td>100002</td>\n",
              "      <td>1.0</td>\n",
              "      <td>0</td>\n",
              "      <td>1</td>\n",
              "      <td>0</td>\n",
              "      <td>1</td>\n",
              "      <td>0</td>\n",
              "      <td>202500.0</td>\n",
              "      <td>406597.5</td>\n",
              "      <td>24700.5</td>\n",
              "      <td>...</td>\n",
              "      <td>NaN</td>\n",
              "      <td>NaN</td>\n",
              "      <td>NaN</td>\n",
              "      <td>NaN</td>\n",
              "      <td>-8.250000</td>\n",
              "      <td>8.083333</td>\n",
              "      <td>6.500000</td>\n",
              "      <td>1.785714</td>\n",
              "      <td>0.000000</td>\n",
              "      <td>0.000000</td>\n",
              "    </tr>\n",
              "    <tr>\n",
              "      <th>1</th>\n",
              "      <td>100003</td>\n",
              "      <td>0.0</td>\n",
              "      <td>0</td>\n",
              "      <td>0</td>\n",
              "      <td>0</td>\n",
              "      <td>0</td>\n",
              "      <td>0</td>\n",
              "      <td>270000.0</td>\n",
              "      <td>1293502.5</td>\n",
              "      <td>35698.5</td>\n",
              "      <td>...</td>\n",
              "      <td>6.666667</td>\n",
              "      <td>0.064516</td>\n",
              "      <td>0.0</td>\n",
              "      <td>0.0</td>\n",
              "      <td>-19.000000</td>\n",
              "      <td>17.630769</td>\n",
              "      <td>14.497436</td>\n",
              "      <td>0.656410</td>\n",
              "      <td>0.000000</td>\n",
              "      <td>0.000000</td>\n",
              "    </tr>\n",
              "    <tr>\n",
              "      <th>2</th>\n",
              "      <td>100004</td>\n",
              "      <td>0.0</td>\n",
              "      <td>1</td>\n",
              "      <td>1</td>\n",
              "      <td>1</td>\n",
              "      <td>1</td>\n",
              "      <td>0</td>\n",
              "      <td>67500.0</td>\n",
              "      <td>135000.0</td>\n",
              "      <td>6750.0</td>\n",
              "      <td>...</td>\n",
              "      <td>12.782051</td>\n",
              "      <td>0.000000</td>\n",
              "      <td>0.0</td>\n",
              "      <td>0.0</td>\n",
              "      <td>-43.500000</td>\n",
              "      <td>8.500000</td>\n",
              "      <td>4.916667</td>\n",
              "      <td>0.333333</td>\n",
              "      <td>0.000000</td>\n",
              "      <td>0.000000</td>\n",
              "    </tr>\n",
              "    <tr>\n",
              "      <th>3</th>\n",
              "      <td>100006</td>\n",
              "      <td>0.0</td>\n",
              "      <td>0</td>\n",
              "      <td>0</td>\n",
              "      <td>0</td>\n",
              "      <td>1</td>\n",
              "      <td>0</td>\n",
              "      <td>135000.0</td>\n",
              "      <td>312682.5</td>\n",
              "      <td>29686.5</td>\n",
              "      <td>...</td>\n",
              "      <td>NaN</td>\n",
              "      <td>NaN</td>\n",
              "      <td>NaN</td>\n",
              "      <td>NaN</td>\n",
              "      <td>-33.416667</td>\n",
              "      <td>12.400253</td>\n",
              "      <td>6.796086</td>\n",
              "      <td>0.456805</td>\n",
              "      <td>0.000000</td>\n",
              "      <td>0.000000</td>\n",
              "    </tr>\n",
              "    <tr>\n",
              "      <th>4</th>\n",
              "      <td>100007</td>\n",
              "      <td>0.0</td>\n",
              "      <td>0</td>\n",
              "      <td>1</td>\n",
              "      <td>0</td>\n",
              "      <td>1</td>\n",
              "      <td>0</td>\n",
              "      <td>121500.0</td>\n",
              "      <td>513000.0</td>\n",
              "      <td>21865.5</td>\n",
              "      <td>...</td>\n",
              "      <td>3.600000</td>\n",
              "      <td>0.000000</td>\n",
              "      <td>0.0</td>\n",
              "      <td>0.0</td>\n",
              "      <td>-26.428571</td>\n",
              "      <td>11.333333</td>\n",
              "      <td>8.111111</td>\n",
              "      <td>0.461190</td>\n",
              "      <td>0.126984</td>\n",
              "      <td>0.126984</td>\n",
              "    </tr>\n",
              "  </tbody>\n",
              "</table>\n",
              "<p>5 rows × 342 columns</p>\n",
              "</div>"
            ],
            "text/plain": [
              "   SK_ID_CURR  TARGET  NAME_CONTRACT_TYPE  CODE_GENDER  FLAG_OWN_CAR  \\\n",
              "0      100002     1.0                   0            1             0   \n",
              "1      100003     0.0                   0            0             0   \n",
              "2      100004     0.0                   1            1             1   \n",
              "3      100006     0.0                   0            0             0   \n",
              "4      100007     0.0                   0            1             0   \n",
              "\n",
              "   FLAG_OWN_REALTY  CNT_CHILDREN  AMT_INCOME_TOTAL  AMT_CREDIT  AMT_ANNUITY  \\\n",
              "0                1             0          202500.0    406597.5      24700.5   \n",
              "1                0             0          270000.0   1293502.5      35698.5   \n",
              "2                1             0           67500.0    135000.0       6750.0   \n",
              "3                1             0          135000.0    312682.5      29686.5   \n",
              "4                1             0          121500.0    513000.0      21865.5   \n",
              "\n",
              "   ...  Prev_CCB_CNT_INSTALMENT_MATURE_CUM  Prev_CCB_NAME_CONTRACT_STATUS  \\\n",
              "0  ...                                 NaN                            NaN   \n",
              "1  ...                            6.666667                       0.064516   \n",
              "2  ...                           12.782051                       0.000000   \n",
              "3  ...                                 NaN                            NaN   \n",
              "4  ...                            3.600000                       0.000000   \n",
              "\n",
              "   Prev_CCB_SK_DPD  Prev_CCB_SK_DPD_DEF  Prev_POS_MONTHS_BALANCE  \\\n",
              "0              NaN                  NaN                -8.250000   \n",
              "1              0.0                  0.0               -19.000000   \n",
              "2              0.0                  0.0               -43.500000   \n",
              "3              NaN                  NaN               -33.416667   \n",
              "4              0.0                  0.0               -26.428571   \n",
              "\n",
              "   Prev_POS_CNT_INSTALMENT  Prev_POS_CNT_INSTALMENT_FUTURE  \\\n",
              "0                 8.083333                        6.500000   \n",
              "1                17.630769                       14.497436   \n",
              "2                 8.500000                        4.916667   \n",
              "3                12.400253                        6.796086   \n",
              "4                11.333333                        8.111111   \n",
              "\n",
              "   Prev_POS_NAME_CONTRACT_STATUS  Prev_POS_SK_DPD  Prev_POS_SK_DPD_DEF  \n",
              "0                       1.785714         0.000000             0.000000  \n",
              "1                       0.656410         0.000000             0.000000  \n",
              "2                       0.333333         0.000000             0.000000  \n",
              "3                       0.456805         0.000000             0.000000  \n",
              "4                       0.461190         0.126984             0.126984  \n",
              "\n",
              "[5 rows x 342 columns]"
            ]
          },
          "execution_count": 10,
          "metadata": {},
          "output_type": "execute_result"
        }
      ],
      "source": [
        "df.head(5)"
      ]
    },
    {
      "cell_type": "code",
      "execution_count": null,
      "id": "b53ee42f",
      "metadata": {
        "id": "b53ee42f",
        "outputId": "86f60e85-da56-47aa-d688-67adfc07718f"
      },
      "outputs": [
        {
          "data": {
            "text/plain": [
              "(356255, 342)"
            ]
          },
          "execution_count": 11,
          "metadata": {},
          "output_type": "execute_result"
        }
      ],
      "source": [
        "df.shape"
      ]
    },
    {
      "cell_type": "code",
      "execution_count": null,
      "id": "9615b87c",
      "metadata": {
        "id": "9615b87c",
        "outputId": "8a487d18-a085-4bc0-e5de-e90ccff3b2d7"
      },
      "outputs": [
        {
          "data": {
            "text/plain": [
              "0         1.0\n",
              "1         0.0\n",
              "2         0.0\n",
              "3         0.0\n",
              "4         0.0\n",
              "         ... \n",
              "307506    0.0\n",
              "307507    0.0\n",
              "307508    0.0\n",
              "307509    1.0\n",
              "307510    0.0\n",
              "Name: TARGET, Length: 307511, dtype: float64"
            ]
          },
          "execution_count": 12,
          "metadata": {},
          "output_type": "execute_result"
        }
      ],
      "source": [
        "# Check the target value on df_train\n",
        "\n",
        "df['TARGET'][:307511]"
      ]
    },
    {
      "cell_type": "code",
      "execution_count": null,
      "id": "4fc716e1",
      "metadata": {
        "id": "4fc716e1",
        "outputId": "9dd71cc7-cb8f-42a3-a073-1c765d91b85f"
      },
      "outputs": [
        {
          "data": {
            "text/plain": [
              "0       NaN\n",
              "1       NaN\n",
              "2       NaN\n",
              "3       NaN\n",
              "4       NaN\n",
              "         ..\n",
              "48739   NaN\n",
              "48740   NaN\n",
              "48741   NaN\n",
              "48742   NaN\n",
              "48743   NaN\n",
              "Name: TARGET, Length: 48744, dtype: float64"
            ]
          },
          "execution_count": 13,
          "metadata": {},
          "output_type": "execute_result"
        }
      ],
      "source": [
        "# Check the target value on df_test\n",
        "\n",
        "df['TARGET'][307511:]"
      ]
    },
    {
      "cell_type": "code",
      "execution_count": null,
      "id": "10c55529",
      "metadata": {
        "id": "10c55529",
        "outputId": "5a97ccf2-d1d7-468c-89ac-fdd6c97af2cb"
      },
      "outputs": [
        {
          "data": {
            "text/plain": [
              "(356255, 341)"
            ]
          },
          "execution_count": 14,
          "metadata": {},
          "output_type": "execute_result"
        }
      ],
      "source": [
        "# Drop the target column\n",
        "\n",
        "df2 = df.drop(columns=['TARGET'])\n",
        "df2.shape"
      ]
    },
    {
      "cell_type": "markdown",
      "id": "caed06da",
      "metadata": {
        "id": "caed06da"
      },
      "source": [
        "# Handling Missing Value"
      ]
    },
    {
      "cell_type": "code",
      "execution_count": null,
      "id": "9f53c515",
      "metadata": {
        "id": "9f53c515",
        "outputId": "c5ca08e6-c9e1-49fc-ec31-06ca221a1b64"
      },
      "outputs": [
        {
          "data": {
            "text/plain": [
              "Prev_FLAG_LAST_APPL_PER_CONTRACT                            100.000000\n",
              "Prev_RATE_INTEREST_PRIVILEGED                                98.193710\n",
              "Prev_RATE_INTEREST_PRIMARY                                   98.193710\n",
              "Prev_CCB_AMT_PAYMENT_CURRENT                                 74.091592\n",
              "Prev_CCB_AMT_DRAWINGS_POS_CURRENT                            74.078118\n",
              "                                                               ...    \n",
              "Prev_NAME_CASH_LOAN_PURPOSE_Repairs                           0.000000\n",
              "Prev_NAME_CASH_LOAN_PURPOSE_Everyday expenses                 0.000000\n",
              "Prev_NAME_CASH_LOAN_PURPOSE_Car repairs                       0.000000\n",
              "Prev_NAME_CASH_LOAN_PURPOSE_Building a house or an annex      0.000000\n",
              "Prev_WEEKDAY_APPR_PROCESS_START_THURSDAY                      0.000000\n",
              "Length: 341, dtype: float64"
            ]
          },
          "execution_count": 15,
          "metadata": {},
          "output_type": "execute_result"
        }
      ],
      "source": [
        "# Check the percentage of value Nan on All features\n",
        "\n",
        "null = df2.isna().sum()/df2.shape[0]*100\n",
        "null.sort_values(ascending=False)"
      ]
    },
    {
      "cell_type": "code",
      "execution_count": null,
      "id": "84d38d41",
      "metadata": {
        "id": "84d38d41",
        "outputId": "56ee7982-91a4-46d2-e9b7-a6ee073569d8"
      },
      "outputs": [
        {
          "data": {
            "text/html": [
              "<div>\n",
              "<style scoped>\n",
              "    .dataframe tbody tr th:only-of-type {\n",
              "        vertical-align: middle;\n",
              "    }\n",
              "\n",
              "    .dataframe tbody tr th {\n",
              "        vertical-align: top;\n",
              "    }\n",
              "\n",
              "    .dataframe thead th {\n",
              "        text-align: right;\n",
              "    }\n",
              "</style>\n",
              "<table border=\"1\" class=\"dataframe\">\n",
              "  <thead>\n",
              "    <tr style=\"text-align: right;\">\n",
              "      <th></th>\n",
              "      <th>0</th>\n",
              "    </tr>\n",
              "  </thead>\n",
              "  <tbody>\n",
              "    <tr>\n",
              "      <th>Prev_FLAG_LAST_APPL_PER_CONTRACT</th>\n",
              "      <td>1.000000</td>\n",
              "    </tr>\n",
              "    <tr>\n",
              "      <th>Prev_RATE_INTEREST_PRIVILEGED</th>\n",
              "      <td>0.981937</td>\n",
              "    </tr>\n",
              "    <tr>\n",
              "      <th>Prev_RATE_INTEREST_PRIMARY</th>\n",
              "      <td>0.981937</td>\n",
              "    </tr>\n",
              "    <tr>\n",
              "      <th>Prev_CCB_AMT_PAYMENT_CURRENT</th>\n",
              "      <td>0.740916</td>\n",
              "    </tr>\n",
              "    <tr>\n",
              "      <th>Prev_CCB_AMT_DRAWINGS_POS_CURRENT</th>\n",
              "      <td>0.740781</td>\n",
              "    </tr>\n",
              "    <tr>\n",
              "      <th>Prev_CCB_CNT_DRAWINGS_POS_CURRENT</th>\n",
              "      <td>0.740781</td>\n",
              "    </tr>\n",
              "    <tr>\n",
              "      <th>Prev_CCB_AMT_DRAWINGS_ATM_CURRENT</th>\n",
              "      <td>0.740781</td>\n",
              "    </tr>\n",
              "    <tr>\n",
              "      <th>Prev_CCB_AMT_DRAWINGS_OTHER_CURRENT</th>\n",
              "      <td>0.740781</td>\n",
              "    </tr>\n",
              "    <tr>\n",
              "      <th>Prev_CCB_CNT_DRAWINGS_ATM_CURRENT</th>\n",
              "      <td>0.740781</td>\n",
              "    </tr>\n",
              "    <tr>\n",
              "      <th>Prev_CCB_CNT_DRAWINGS_OTHER_CURRENT</th>\n",
              "      <td>0.740781</td>\n",
              "    </tr>\n",
              "  </tbody>\n",
              "</table>\n",
              "</div>"
            ],
            "text/plain": [
              "                                            0\n",
              "Prev_FLAG_LAST_APPL_PER_CONTRACT     1.000000\n",
              "Prev_RATE_INTEREST_PRIVILEGED        0.981937\n",
              "Prev_RATE_INTEREST_PRIMARY           0.981937\n",
              "Prev_CCB_AMT_PAYMENT_CURRENT         0.740916\n",
              "Prev_CCB_AMT_DRAWINGS_POS_CURRENT    0.740781\n",
              "Prev_CCB_CNT_DRAWINGS_POS_CURRENT    0.740781\n",
              "Prev_CCB_AMT_DRAWINGS_ATM_CURRENT    0.740781\n",
              "Prev_CCB_AMT_DRAWINGS_OTHER_CURRENT  0.740781\n",
              "Prev_CCB_CNT_DRAWINGS_ATM_CURRENT    0.740781\n",
              "Prev_CCB_CNT_DRAWINGS_OTHER_CURRENT  0.740781"
            ]
          },
          "execution_count": 16,
          "metadata": {},
          "output_type": "execute_result"
        }
      ],
      "source": [
        "# Showing top 10 features that has biggest Nan percentage\n",
        "\n",
        "data_missing = pd.DataFrame(df2.isnull().sum() / len(df2)).sort_values(by=0, ascending=False)\n",
        "data_missing[:10]"
      ]
    },
    {
      "cell_type": "code",
      "execution_count": null,
      "id": "6d6934bc",
      "metadata": {
        "id": "6d6934bc",
        "outputId": "7f266a9c-df9a-4b97-c60d-e3fa57f95055"
      },
      "outputs": [
        {
          "name": "stdout",
          "output_type": "stream",
          "text": [
            "0    69\n",
            "dtype: int64\n",
            "                                          0\n",
            "Prev_FLAG_LAST_APPL_PER_CONTRACT   1.000000\n",
            "Prev_RATE_INTEREST_PRIVILEGED      0.981937\n",
            "Prev_RATE_INTEREST_PRIMARY         0.981937\n",
            "Prev_CCB_AMT_PAYMENT_CURRENT       0.740916\n",
            "Prev_CCB_AMT_DRAWINGS_POS_CURRENT  0.740781\n",
            "...                                     ...\n",
            "APARTMENTS_AVG                     0.505110\n",
            "APARTMENTS_MEDI                    0.505110\n",
            "ENTRANCES_MEDI                     0.500785\n",
            "ENTRANCES_MODE                     0.500785\n",
            "ENTRANCES_AVG                      0.500785\n",
            "\n",
            "[69 rows x 1 columns]\n"
          ]
        }
      ],
      "source": [
        "# Droping features that has Value Nan > 50%\n",
        "\n",
        "drop = data_missing[data_missing[0] > 0.5]\n",
        "print(drop.count())\n",
        "print(drop)"
      ]
    },
    {
      "cell_type": "code",
      "execution_count": null,
      "id": "62169239",
      "metadata": {
        "id": "62169239",
        "outputId": "e2aca0eb-9db4-4e01-e598-80a4a3f796e4"
      },
      "outputs": [
        {
          "data": {
            "text/plain": [
              "(356255, 272)"
            ]
          },
          "execution_count": 18,
          "metadata": {},
          "output_type": "execute_result"
        }
      ],
      "source": [
        "df2.drop(columns=drop.index, inplace=True)\n",
        "df2.shape"
      ]
    },
    {
      "cell_type": "code",
      "execution_count": null,
      "id": "b79fc2b5",
      "metadata": {
        "id": "b79fc2b5",
        "outputId": "0ea27dd8-2516-440b-b26b-d493e8cfffc9"
      },
      "outputs": [
        {
          "data": {
            "text/html": [
              "<div>\n",
              "<style scoped>\n",
              "    .dataframe tbody tr th:only-of-type {\n",
              "        vertical-align: middle;\n",
              "    }\n",
              "\n",
              "    .dataframe tbody tr th {\n",
              "        vertical-align: top;\n",
              "    }\n",
              "\n",
              "    .dataframe thead th {\n",
              "        text-align: right;\n",
              "    }\n",
              "</style>\n",
              "<table border=\"1\" class=\"dataframe\">\n",
              "  <thead>\n",
              "    <tr style=\"text-align: right;\">\n",
              "      <th></th>\n",
              "      <th>SK_ID_CURR</th>\n",
              "      <th>NAME_CONTRACT_TYPE</th>\n",
              "      <th>CODE_GENDER</th>\n",
              "      <th>FLAG_OWN_CAR</th>\n",
              "      <th>FLAG_OWN_REALTY</th>\n",
              "      <th>CNT_CHILDREN</th>\n",
              "      <th>AMT_INCOME_TOTAL</th>\n",
              "      <th>AMT_CREDIT</th>\n",
              "      <th>AMT_ANNUITY</th>\n",
              "      <th>AMT_GOODS_PRICE</th>\n",
              "      <th>...</th>\n",
              "      <th>Prev_IP_DAYS_INSTALMENT</th>\n",
              "      <th>Prev_IP_DAYS_ENTRY_PAYMENT</th>\n",
              "      <th>Prev_IP_AMT_INSTALMENT</th>\n",
              "      <th>Prev_IP_AMT_PAYMENT</th>\n",
              "      <th>Prev_POS_MONTHS_BALANCE</th>\n",
              "      <th>Prev_POS_CNT_INSTALMENT</th>\n",
              "      <th>Prev_POS_CNT_INSTALMENT_FUTURE</th>\n",
              "      <th>Prev_POS_NAME_CONTRACT_STATUS</th>\n",
              "      <th>Prev_POS_SK_DPD</th>\n",
              "      <th>Prev_POS_SK_DPD_DEF</th>\n",
              "    </tr>\n",
              "  </thead>\n",
              "  <tbody>\n",
              "    <tr>\n",
              "      <th>0</th>\n",
              "      <td>100002</td>\n",
              "      <td>0</td>\n",
              "      <td>1</td>\n",
              "      <td>0</td>\n",
              "      <td>1</td>\n",
              "      <td>0</td>\n",
              "      <td>202500.0</td>\n",
              "      <td>406597.5</td>\n",
              "      <td>24700.5</td>\n",
              "      <td>351000.0</td>\n",
              "      <td>...</td>\n",
              "      <td>-247.000000</td>\n",
              "      <td>-254.800000</td>\n",
              "      <td>21081.262500</td>\n",
              "      <td>21081.262500</td>\n",
              "      <td>-8.250000</td>\n",
              "      <td>8.083333</td>\n",
              "      <td>6.500000</td>\n",
              "      <td>1.785714</td>\n",
              "      <td>0.000000</td>\n",
              "      <td>0.000000</td>\n",
              "    </tr>\n",
              "    <tr>\n",
              "      <th>1</th>\n",
              "      <td>100003</td>\n",
              "      <td>0</td>\n",
              "      <td>0</td>\n",
              "      <td>0</td>\n",
              "      <td>0</td>\n",
              "      <td>0</td>\n",
              "      <td>270000.0</td>\n",
              "      <td>1293502.5</td>\n",
              "      <td>35698.5</td>\n",
              "      <td>1129500.0</td>\n",
              "      <td>...</td>\n",
              "      <td>-533.122222</td>\n",
              "      <td>-543.177778</td>\n",
              "      <td>23136.942125</td>\n",
              "      <td>23136.942125</td>\n",
              "      <td>-19.000000</td>\n",
              "      <td>17.630769</td>\n",
              "      <td>14.497436</td>\n",
              "      <td>0.656410</td>\n",
              "      <td>0.000000</td>\n",
              "      <td>0.000000</td>\n",
              "    </tr>\n",
              "    <tr>\n",
              "      <th>2</th>\n",
              "      <td>100004</td>\n",
              "      <td>1</td>\n",
              "      <td>1</td>\n",
              "      <td>1</td>\n",
              "      <td>1</td>\n",
              "      <td>0</td>\n",
              "      <td>67500.0</td>\n",
              "      <td>135000.0</td>\n",
              "      <td>6750.0</td>\n",
              "      <td>135000.0</td>\n",
              "      <td>...</td>\n",
              "      <td>-1294.198413</td>\n",
              "      <td>-1300.294709</td>\n",
              "      <td>11450.143036</td>\n",
              "      <td>11450.143036</td>\n",
              "      <td>-43.500000</td>\n",
              "      <td>8.500000</td>\n",
              "      <td>4.916667</td>\n",
              "      <td>0.333333</td>\n",
              "      <td>0.000000</td>\n",
              "      <td>0.000000</td>\n",
              "    </tr>\n",
              "    <tr>\n",
              "      <th>3</th>\n",
              "      <td>100006</td>\n",
              "      <td>0</td>\n",
              "      <td>0</td>\n",
              "      <td>0</td>\n",
              "      <td>1</td>\n",
              "      <td>0</td>\n",
              "      <td>135000.0</td>\n",
              "      <td>312682.5</td>\n",
              "      <td>29686.5</td>\n",
              "      <td>297000.0</td>\n",
              "      <td>...</td>\n",
              "      <td>-989.547348</td>\n",
              "      <td>-998.087852</td>\n",
              "      <td>44632.814879</td>\n",
              "      <td>41626.031019</td>\n",
              "      <td>-33.416667</td>\n",
              "      <td>12.400253</td>\n",
              "      <td>6.796086</td>\n",
              "      <td>0.456805</td>\n",
              "      <td>0.000000</td>\n",
              "      <td>0.000000</td>\n",
              "    </tr>\n",
              "    <tr>\n",
              "      <th>4</th>\n",
              "      <td>100007</td>\n",
              "      <td>0</td>\n",
              "      <td>1</td>\n",
              "      <td>0</td>\n",
              "      <td>1</td>\n",
              "      <td>0</td>\n",
              "      <td>121500.0</td>\n",
              "      <td>513000.0</td>\n",
              "      <td>21865.5</td>\n",
              "      <td>513000.0</td>\n",
              "      <td>...</td>\n",
              "      <td>-700.413082</td>\n",
              "      <td>-705.302259</td>\n",
              "      <td>102297.513891</td>\n",
              "      <td>101564.224500</td>\n",
              "      <td>-26.428571</td>\n",
              "      <td>11.333333</td>\n",
              "      <td>8.111111</td>\n",
              "      <td>0.461190</td>\n",
              "      <td>0.126984</td>\n",
              "      <td>0.126984</td>\n",
              "    </tr>\n",
              "  </tbody>\n",
              "</table>\n",
              "<p>5 rows × 272 columns</p>\n",
              "</div>"
            ],
            "text/plain": [
              "   SK_ID_CURR  NAME_CONTRACT_TYPE  CODE_GENDER  FLAG_OWN_CAR  FLAG_OWN_REALTY  \\\n",
              "0      100002                   0            1             0                1   \n",
              "1      100003                   0            0             0                0   \n",
              "2      100004                   1            1             1                1   \n",
              "3      100006                   0            0             0                1   \n",
              "4      100007                   0            1             0                1   \n",
              "\n",
              "   CNT_CHILDREN  AMT_INCOME_TOTAL  AMT_CREDIT  AMT_ANNUITY  AMT_GOODS_PRICE  \\\n",
              "0             0          202500.0    406597.5      24700.5         351000.0   \n",
              "1             0          270000.0   1293502.5      35698.5        1129500.0   \n",
              "2             0           67500.0    135000.0       6750.0         135000.0   \n",
              "3             0          135000.0    312682.5      29686.5         297000.0   \n",
              "4             0          121500.0    513000.0      21865.5         513000.0   \n",
              "\n",
              "   ...  Prev_IP_DAYS_INSTALMENT  Prev_IP_DAYS_ENTRY_PAYMENT  \\\n",
              "0  ...              -247.000000                 -254.800000   \n",
              "1  ...              -533.122222                 -543.177778   \n",
              "2  ...             -1294.198413                -1300.294709   \n",
              "3  ...              -989.547348                 -998.087852   \n",
              "4  ...              -700.413082                 -705.302259   \n",
              "\n",
              "   Prev_IP_AMT_INSTALMENT  Prev_IP_AMT_PAYMENT  Prev_POS_MONTHS_BALANCE  \\\n",
              "0            21081.262500         21081.262500                -8.250000   \n",
              "1            23136.942125         23136.942125               -19.000000   \n",
              "2            11450.143036         11450.143036               -43.500000   \n",
              "3            44632.814879         41626.031019               -33.416667   \n",
              "4           102297.513891        101564.224500               -26.428571   \n",
              "\n",
              "   Prev_POS_CNT_INSTALMENT  Prev_POS_CNT_INSTALMENT_FUTURE  \\\n",
              "0                 8.083333                        6.500000   \n",
              "1                17.630769                       14.497436   \n",
              "2                 8.500000                        4.916667   \n",
              "3                12.400253                        6.796086   \n",
              "4                11.333333                        8.111111   \n",
              "\n",
              "   Prev_POS_NAME_CONTRACT_STATUS  Prev_POS_SK_DPD  Prev_POS_SK_DPD_DEF  \n",
              "0                       1.785714         0.000000             0.000000  \n",
              "1                       0.656410         0.000000             0.000000  \n",
              "2                       0.333333         0.000000             0.000000  \n",
              "3                       0.456805         0.000000             0.000000  \n",
              "4                       0.461190         0.126984             0.126984  \n",
              "\n",
              "[5 rows x 272 columns]"
            ]
          },
          "execution_count": 19,
          "metadata": {},
          "output_type": "execute_result"
        }
      ],
      "source": [
        "df3 = df2.copy()\n",
        "df3.head()"
      ]
    },
    {
      "cell_type": "markdown",
      "id": "8ec63144",
      "metadata": {
        "id": "8ec63144"
      },
      "source": [
        "# Handling Missing Value"
      ]
    },
    {
      "cell_type": "code",
      "execution_count": null,
      "id": "675d72b9",
      "metadata": {
        "id": "675d72b9",
        "outputId": "09768377-eacf-479a-fdcc-45800b172824"
      },
      "outputs": [
        {
          "name": "stdout",
          "output_type": "stream",
          "text": [
            "NAs for numerical features in train : 2263233\n",
            "Remaining NAs for numerical features in train : 2263233\n"
          ]
        }
      ],
      "source": [
        "# fill the Nan Value with Median \n",
        "\n",
        "print(\"NAs for numerical features in train : \" + str(df3.isnull().values.sum()))\n",
        "df4 = df3.fillna(df3.median())\n",
        "print(\"Remaining NAs for numerical features in train : \" + str(df3.isnull().values.sum()))"
      ]
    },
    {
      "cell_type": "code",
      "execution_count": null,
      "id": "429a35af",
      "metadata": {
        "id": "429a35af",
        "outputId": "5195efa0-909e-4660-86c4-bc92d29ee126"
      },
      "outputs": [
        {
          "data": {
            "text/plain": [
              "0.0"
            ]
          },
          "execution_count": 21,
          "metadata": {},
          "output_type": "execute_result"
        }
      ],
      "source": [
        "# Recheck the Nan Value\n",
        "\n",
        "sum(df4.isna().sum())/(df4.shape[0]*df4.shape[1])*100"
      ]
    },
    {
      "cell_type": "markdown",
      "id": "32fc0802",
      "metadata": {
        "id": "32fc0802"
      },
      "source": [
        "# Handling Variabel with Small Variances"
      ]
    },
    {
      "cell_type": "code",
      "execution_count": null,
      "id": "e3ce4460",
      "metadata": {
        "id": "e3ce4460",
        "outputId": "a4de84a8-3d96-42ca-e8ed-cc4020302081"
      },
      "outputs": [
        {
          "data": {
            "text/plain": [
              "Index(['FLAG_MOBIL', 'FLAG_DOCUMENT_2', 'FLAG_DOCUMENT_4', 'FLAG_DOCUMENT_10',\n",
              "       'FLAG_DOCUMENT_12', 'Prev_NAME_CONTRACT_TYPE_XNA',\n",
              "       'Prev_NAME_CASH_LOAN_PURPOSE_Buying a holiday home / land',\n",
              "       'Prev_NAME_CASH_LOAN_PURPOSE_Buying a garage',\n",
              "       'Prev_NAME_CASH_LOAN_PURPOSE_Business development',\n",
              "       'Prev_NAME_CASH_LOAN_PURPOSE_Hobby',\n",
              "       'Prev_NAME_CASH_LOAN_PURPOSE_Gasification / water supply',\n",
              "       'Prev_NAME_CASH_LOAN_PURPOSE_Refusal to name the goal',\n",
              "       'Prev_NAME_CASH_LOAN_PURPOSE_Money for a third person',\n",
              "       'Prev_NAME_TYPE_SUITE_nan', 'Prev_NAME_GOODS_CATEGORY_Education',\n",
              "       'Prev_NAME_GOODS_CATEGORY_Fitness',\n",
              "       'Prev_NAME_GOODS_CATEGORY_Insurance',\n",
              "       'Prev_NAME_GOODS_CATEGORY_Additional Service',\n",
              "       'Prev_NAME_GOODS_CATEGORY_Weapon', 'Prev_NAME_GOODS_CATEGORY_Animals',\n",
              "       'Prev_NAME_GOODS_CATEGORY_House Construction',\n",
              "       'Prev_NAME_PORTFOLIO_Cars', 'Prev_CHANNEL_TYPE_Car dealer',\n",
              "       'Prev_PRODUCT_COMBINATION_nan'],\n",
              "      dtype='object')"
            ]
          },
          "execution_count": 22,
          "metadata": {},
          "output_type": "execute_result"
        }
      ],
      "source": [
        "small_variance = df4.columns[(df4.std(axis = 0) < .01).values]\n",
        "small_variance"
      ]
    },
    {
      "cell_type": "code",
      "execution_count": null,
      "id": "07a9846b",
      "metadata": {
        "id": "07a9846b"
      },
      "outputs": [],
      "source": [
        "df4.drop(columns = small_variance, inplace=True)"
      ]
    },
    {
      "cell_type": "code",
      "execution_count": null,
      "id": "9f049760",
      "metadata": {
        "id": "9f049760",
        "outputId": "32632d72-a6e5-4b96-fcdd-babb40106b9d"
      },
      "outputs": [
        {
          "data": {
            "text/plain": [
              "(356255, 248)"
            ]
          },
          "execution_count": 24,
          "metadata": {},
          "output_type": "execute_result"
        }
      ],
      "source": [
        "df4.shape"
      ]
    },
    {
      "cell_type": "markdown",
      "id": "91db1461",
      "metadata": {
        "id": "91db1461"
      },
      "source": [
        "# Recall the Target Feaatures"
      ]
    },
    {
      "cell_type": "code",
      "execution_count": null,
      "id": "98215707",
      "metadata": {
        "id": "98215707"
      },
      "outputs": [],
      "source": [
        "# Recall data target\n",
        "\n",
        "df4['TARGET'] = df['TARGET']"
      ]
    },
    {
      "cell_type": "code",
      "execution_count": null,
      "id": "0f734392",
      "metadata": {
        "id": "0f734392",
        "outputId": "d0a56bca-7dd0-48c7-a0e1-61dc65e20b35"
      },
      "outputs": [
        {
          "data": {
            "text/plain": [
              "(356255, 249)"
            ]
          },
          "execution_count": 26,
          "metadata": {},
          "output_type": "execute_result"
        }
      ],
      "source": [
        "df4.shape"
      ]
    },
    {
      "cell_type": "code",
      "execution_count": null,
      "id": "fb1b7051",
      "metadata": {
        "id": "fb1b7051",
        "outputId": "9741d583-77c2-4aeb-fa60-469247008773"
      },
      "outputs": [
        {
          "data": {
            "text/plain": [
              "0         1.0\n",
              "1         0.0\n",
              "2         0.0\n",
              "3         0.0\n",
              "4         0.0\n",
              "         ... \n",
              "307506    0.0\n",
              "307507    0.0\n",
              "307508    0.0\n",
              "307509    1.0\n",
              "307510    0.0\n",
              "Name: TARGET, Length: 307511, dtype: float64"
            ]
          },
          "execution_count": 27,
          "metadata": {},
          "output_type": "execute_result"
        }
      ],
      "source": [
        "# Check the Target Value on df_train\n",
        "\n",
        "df4['TARGET'][:307511]"
      ]
    },
    {
      "cell_type": "code",
      "execution_count": null,
      "id": "aab33f74",
      "metadata": {
        "id": "aab33f74",
        "outputId": "164ce688-0594-4332-955f-f3eb2ec77d6d"
      },
      "outputs": [
        {
          "data": {
            "text/plain": [
              "0       NaN\n",
              "1       NaN\n",
              "2       NaN\n",
              "3       NaN\n",
              "4       NaN\n",
              "         ..\n",
              "48739   NaN\n",
              "48740   NaN\n",
              "48741   NaN\n",
              "48742   NaN\n",
              "48743   NaN\n",
              "Name: TARGET, Length: 48744, dtype: float64"
            ]
          },
          "execution_count": 28,
          "metadata": {},
          "output_type": "execute_result"
        }
      ],
      "source": [
        "# Check the Target Value on df_test\n",
        "\n",
        "df4['TARGET'][307511:]"
      ]
    },
    {
      "cell_type": "markdown",
      "id": "be1bec01",
      "metadata": {
        "id": "be1bec01"
      },
      "source": [
        "# Check The Duplicate Data"
      ]
    },
    {
      "cell_type": "code",
      "execution_count": null,
      "id": "431fd514",
      "metadata": {
        "id": "431fd514",
        "outputId": "ac9437f6-e001-4c1a-d644-ba357466852b"
      },
      "outputs": [
        {
          "name": "stdout",
          "output_type": "stream",
          "text": [
            "The number of duplication is: 0\n"
          ]
        }
      ],
      "source": [
        "print('The number of duplication is:', df4.duplicated().sum())"
      ]
    },
    {
      "cell_type": "markdown",
      "id": "5ec5cd9d",
      "metadata": {
        "id": "5ec5cd9d"
      },
      "source": [
        "# Resplit the data to data Train and Test back"
      ]
    },
    {
      "cell_type": "code",
      "execution_count": null,
      "id": "1a01a44d",
      "metadata": {
        "id": "1a01a44d"
      },
      "outputs": [],
      "source": [
        "# Menimport data final\n",
        "\n",
        "df4.to_csv(\"data_merged.csv\")"
      ]
    },
    {
      "cell_type": "code",
      "execution_count": null,
      "id": "5b2df2d9",
      "metadata": {
        "id": "5b2df2d9"
      },
      "outputs": [],
      "source": [
        "# Split back data train and data test\n",
        "\n",
        "df_train = df4[:307511]"
      ]
    },
    {
      "cell_type": "code",
      "execution_count": null,
      "id": "4f3827bf",
      "metadata": {
        "id": "4f3827bf",
        "outputId": "e871b1ca-e14c-4126-bbcf-79bc65af820c"
      },
      "outputs": [
        {
          "data": {
            "text/plain": [
              "(307511, 275)"
            ]
          },
          "execution_count": 52,
          "metadata": {},
          "output_type": "execute_result"
        }
      ],
      "source": [
        "df_train.shape"
      ]
    },
    {
      "cell_type": "code",
      "execution_count": null,
      "id": "d2d55ffd",
      "metadata": {
        "id": "d2d55ffd"
      },
      "outputs": [],
      "source": [
        "df_test = df4[307511:]"
      ]
    },
    {
      "cell_type": "code",
      "execution_count": null,
      "id": "4283505f",
      "metadata": {
        "id": "4283505f",
        "outputId": "cb64667d-6461-40ab-e8cd-4fadf30e1aa7"
      },
      "outputs": [
        {
          "data": {
            "text/plain": [
              "(48744, 275)"
            ]
          },
          "execution_count": 54,
          "metadata": {},
          "output_type": "execute_result"
        }
      ],
      "source": [
        "df_test.shape"
      ]
    },
    {
      "cell_type": "markdown",
      "id": "f8d64bf8",
      "metadata": {
        "id": "f8d64bf8"
      },
      "source": [
        "# Export Data Train"
      ]
    },
    {
      "cell_type": "code",
      "execution_count": null,
      "id": "f853c248",
      "metadata": {
        "id": "f853c248"
      },
      "outputs": [],
      "source": [
        "# Eksport data final train\n",
        "\n",
        "df_train_fix = df_train.copy()"
      ]
    },
    {
      "cell_type": "code",
      "execution_count": null,
      "id": "8cf11daf",
      "metadata": {
        "id": "8cf11daf"
      },
      "outputs": [],
      "source": [
        "df_train_fix.to_csv('df_train_fix.csv')"
      ]
    },
    {
      "cell_type": "markdown",
      "id": "0d656529",
      "metadata": {
        "id": "0d656529"
      },
      "source": [
        "# Export Data Test"
      ]
    },
    {
      "cell_type": "code",
      "execution_count": null,
      "id": "17a0a6d1",
      "metadata": {
        "id": "17a0a6d1"
      },
      "outputs": [],
      "source": [
        "df_test_fix = df_test.copy()"
      ]
    },
    {
      "cell_type": "code",
      "execution_count": null,
      "id": "bdc7143a",
      "metadata": {
        "id": "bdc7143a"
      },
      "outputs": [],
      "source": [
        "df_test_fix.to_csv(\"df_test_fix.csv\")"
      ]
    }
  ],
  "metadata": {
    "kernelspec": {
      "display_name": "Python 3 (ipykernel)",
      "language": "python",
      "name": "python3"
    },
    "language_info": {
      "codemirror_mode": {
        "name": "ipython",
        "version": 3
      },
      "file_extension": ".py",
      "mimetype": "text/x-python",
      "name": "python",
      "nbconvert_exporter": "python",
      "pygments_lexer": "ipython3",
      "version": "3.9.13"
    },
    "colab": {
      "provenance": []
    }
  },
  "nbformat": 4,
  "nbformat_minor": 5
}